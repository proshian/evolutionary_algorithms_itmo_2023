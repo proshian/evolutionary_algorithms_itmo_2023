{
 "cells": [
  {
   "cell_type": "code",
   "execution_count": 50,
   "id": "cc023dde",
   "metadata": {},
   "outputs": [],
   "source": [
    "import pandas as pd\n",
    "import matplotlib.pyplot as plt"
   ]
  },
  {
   "cell_type": "code",
   "execution_count": 51,
   "id": "2abbb1a4",
   "metadata": {},
   "outputs": [
    {
     "data": {
      "text/html": [
       "<div>\n",
       "<style scoped>\n",
       "    .dataframe tbody tr th:only-of-type {\n",
       "        vertical-align: middle;\n",
       "    }\n",
       "\n",
       "    .dataframe tbody tr th {\n",
       "        vertical-align: top;\n",
       "    }\n",
       "\n",
       "    .dataframe thead th {\n",
       "        text-align: right;\n",
       "    }\n",
       "</style>\n",
       "<table border=\"1\" class=\"dataframe\">\n",
       "  <thead>\n",
       "    <tr style=\"text-align: right;\">\n",
       "      <th></th>\n",
       "      <th>алгоритм</th>\n",
       "      <th>complexity</th>\n",
       "      <th>время (ms)</th>\n",
       "      <th>результат</th>\n",
       "    </tr>\n",
       "  </thead>\n",
       "  <tbody>\n",
       "    <tr>\n",
       "      <th>0</th>\n",
       "      <td>single-thread</td>\n",
       "      <td>1</td>\n",
       "      <td>126</td>\n",
       "      <td>5.170</td>\n",
       "    </tr>\n",
       "    <tr>\n",
       "      <th>1</th>\n",
       "      <td>single-thread</td>\n",
       "      <td>2</td>\n",
       "      <td>118</td>\n",
       "      <td>5.162</td>\n",
       "    </tr>\n",
       "    <tr>\n",
       "      <th>2</th>\n",
       "      <td>single-thread</td>\n",
       "      <td>3</td>\n",
       "      <td>169</td>\n",
       "      <td>5.123</td>\n",
       "    </tr>\n",
       "    <tr>\n",
       "      <th>3</th>\n",
       "      <td>single-thread</td>\n",
       "      <td>4</td>\n",
       "      <td>188</td>\n",
       "      <td>5.253</td>\n",
       "    </tr>\n",
       "    <tr>\n",
       "      <th>4</th>\n",
       "      <td>single-thread</td>\n",
       "      <td>5</td>\n",
       "      <td>211</td>\n",
       "      <td>5.145</td>\n",
       "    </tr>\n",
       "    <tr>\n",
       "      <th>5</th>\n",
       "      <td>master-slave</td>\n",
       "      <td>1</td>\n",
       "      <td>125</td>\n",
       "      <td>5.092</td>\n",
       "    </tr>\n",
       "    <tr>\n",
       "      <th>6</th>\n",
       "      <td>master-slave</td>\n",
       "      <td>2</td>\n",
       "      <td>86</td>\n",
       "      <td>5.304</td>\n",
       "    </tr>\n",
       "    <tr>\n",
       "      <th>7</th>\n",
       "      <td>master-slave</td>\n",
       "      <td>3</td>\n",
       "      <td>137</td>\n",
       "      <td>5.093</td>\n",
       "    </tr>\n",
       "    <tr>\n",
       "      <th>8</th>\n",
       "      <td>master-slave</td>\n",
       "      <td>4</td>\n",
       "      <td>160</td>\n",
       "      <td>5.219</td>\n",
       "    </tr>\n",
       "    <tr>\n",
       "      <th>9</th>\n",
       "      <td>master-slave</td>\n",
       "      <td>5</td>\n",
       "      <td>104</td>\n",
       "      <td>5.188</td>\n",
       "    </tr>\n",
       "    <tr>\n",
       "      <th>10</th>\n",
       "      <td>island</td>\n",
       "      <td>1</td>\n",
       "      <td>339</td>\n",
       "      <td>6.534</td>\n",
       "    </tr>\n",
       "    <tr>\n",
       "      <th>11</th>\n",
       "      <td>island</td>\n",
       "      <td>2</td>\n",
       "      <td>307</td>\n",
       "      <td>6.569</td>\n",
       "    </tr>\n",
       "    <tr>\n",
       "      <th>12</th>\n",
       "      <td>island</td>\n",
       "      <td>3</td>\n",
       "      <td>295</td>\n",
       "      <td>6.571</td>\n",
       "    </tr>\n",
       "    <tr>\n",
       "      <th>13</th>\n",
       "      <td>island</td>\n",
       "      <td>4</td>\n",
       "      <td>296</td>\n",
       "      <td>6.579</td>\n",
       "    </tr>\n",
       "    <tr>\n",
       "      <th>14</th>\n",
       "      <td>island</td>\n",
       "      <td>5</td>\n",
       "      <td>337</td>\n",
       "      <td>6.577</td>\n",
       "    </tr>\n",
       "  </tbody>\n",
       "</table>\n",
       "</div>"
      ],
      "text/plain": [
       "         алгоритм  complexity  время (ms)  результат\n",
       "0   single-thread           1         126      5.170\n",
       "1   single-thread           2         118      5.162\n",
       "2   single-thread           3         169      5.123\n",
       "3   single-thread           4         188      5.253\n",
       "4   single-thread           5         211      5.145\n",
       "5    master-slave           1         125      5.092\n",
       "6    master-slave           2          86      5.304\n",
       "7    master-slave           3         137      5.093\n",
       "8    master-slave           4         160      5.219\n",
       "9    master-slave           5         104      5.188\n",
       "10         island           1         339      6.534\n",
       "11         island           2         307      6.569\n",
       "12         island           3         295      6.571\n",
       "13         island           4         296      6.579\n",
       "14         island           5         337      6.577"
      ]
     },
     "execution_count": 51,
     "metadata": {},
     "output_type": "execute_result"
    }
   ],
   "source": [
    "data = pd.read_csv('experiment_data.csv')\n",
    "data"
   ]
  },
  {
   "cell_type": "code",
   "execution_count": 52,
   "id": "a137533c",
   "metadata": {},
   "outputs": [
    {
     "data": {
      "text/plain": [
       "array(['single-thread', 'master-slave', 'island'], dtype=object)"
      ]
     },
     "execution_count": 52,
     "metadata": {},
     "output_type": "execute_result"
    }
   ],
   "source": [
    "algorythms = data[\"алгоритм\"].unique()\n",
    "algorythms"
   ]
  },
  {
   "cell_type": "code",
   "execution_count": 53,
   "id": "dbc6bf0c",
   "metadata": {},
   "outputs": [
    {
     "data": {
      "image/png": "[encoded data removed]",
      "text/plain": [
       "<Figure size 432x288 with 1 Axes>"
      ]
     },
     "metadata": {
      "needs_background": "light"
     },
     "output_type": "display_data"
    }
   ],
   "source": [
    "for algorythm in algorythms:\n",
    "    plt.plot(range(1,6), data[data['алгоритм'] == algorythm].sort_values(by = \"complexity\")['время (ms)'], label = algorythm)\n",
    "    plt.legend()\n",
    "    plt.title(\"Зависимость времени работы от complexity\")\n",
    "    plt.xlabel(\"complexity\")\n",
    "    plt.ylabel(\"'время (мс)\")"
   ]
  },
  {
   "cell_type": "code",
   "execution_count": 54,
   "id": "f8f9bf58",
   "metadata": {},
   "outputs": [
    {
     "data": {
      "image/png": "[encoded data removed]",
      "text/plain": [
       "<Figure size 432x288 with 1 Axes>"
      ]
     },
     "metadata": {
      "needs_background": "light"
     },
     "output_type": "display_data"
    }
   ],
   "source": [
    "for algorythm in algorythms:\n",
    "    plt.plot(range(1,6), data[data['алгоритм'] == algorythm].sort_values(by = \"complexity\")['результат'], label = algorythm)\n",
    "    plt.legend()\n",
    "    plt.title(\"Зависимость лучшего результата от complexity\")\n",
    "    plt.xlabel('complexity')\n",
    "    plt.ylabel(\"результат\")"
   ]
  },
  {
   "cell_type": "code",
   "execution_count": null,
   "id": "7f4f2258",
   "metadata": {},
   "outputs": [],
   "source": []
  }
 ],
 "metadata": {
  "kernelspec": {
   "display_name": "Python 3 (ipykernel)",
   "language": "python",
   "name": "python3"
  },
  "language_info": {
   "codemirror_mode": {
    "name": "ipython",
    "version": 3
   },
   "file_extension": ".py",
   "mimetype": "text/x-python",
   "name": "python",
   "nbconvert_exporter": "python",
   "pygments_lexer": "ipython3",
   "version": "3.10.4"
  }
 },
 "nbformat": 4,
 "nbformat_minor": 5
}
