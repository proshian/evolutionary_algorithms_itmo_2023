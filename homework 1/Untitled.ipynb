{
 "cells": [
  {
   "cell_type": "code",
   "execution_count": 6,
   "id": "7a6bd2ea",
   "metadata": {},
   "outputs": [
    {
     "name": "stderr",
     "output_type": "stream",
     "text": [
      "Testing insertion_sort2 with input size 16384: 100%|██████████| 10/10 [00:47<00:00,  4.72s/it]\n"
     ]
    },
    {
     "data": {
      "image/png": "[encoded data removed]",
      "text/plain": [
       "<Figure size 432x288 with 1 Axes>"
      ]
     },
     "metadata": {
      "needs_background": "light"
     },
     "output_type": "display_data"
    },
    {
     "name": "stdout",
     "output_type": "stream",
     "text": [
      "Algorythm times:\n",
      "insertion_sort: [0.0, 0.0, 0.0, 0.0029900074005126953, 0.027924060821533203, 0.15059590339660645, 0.3051776885986328, 1.252650499343872, 4.230685234069824, 20.298936367034912]\n",
      "insertion_sort2: [0.0, 0.000997781753540039, 0.0, 0.000997304916381836, 0.0299227237701416, 0.13962674140930176, 0.37400007247924805, 1.0402164459228516, 3.289569139480591, 15.76584005355835]\n"
     ]
    },
    {
     "data": {
      "text/plain": [
       "<Figure size 432x288 with 0 Axes>"
      ]
     },
     "metadata": {},
     "output_type": "display_data"
    }
   ],
   "source": [
    "from typing import List, Callable, Iterable, Any\n",
    "import time\n",
    "from copy import deepcopy\n",
    "\n",
    "\n",
    "from numpy.random import randint\n",
    "import matplotlib.pyplot as plt\n",
    "from tqdm import tqdm\n",
    "\n",
    "def insertion_sort(A: Iterable[Any], n: int) -> None:\n",
    "    for j in range(1, n):\n",
    "        key = A[j]\n",
    "        i = j - 1\n",
    "        while i >= 0 and A[i] > key:\n",
    "            A[i+1] = A[i]\n",
    "            i -= 1\n",
    "        A[i+1] = key\n",
    "\n",
    "def insertion_sort2(A: Iterable[Any], n: int) -> None:\n",
    "    for j in range(1, n):\n",
    "        key = A[j]\n",
    "        breaked = False\n",
    "        for i in range(j-1, -1, -1):\n",
    "            if A[i] <= key:\n",
    "                breaked = True\n",
    "                break\n",
    "            A[i+1] = A[i]\n",
    "        if not breaked:\n",
    "            i -= 1\n",
    "        A[i+1] = key\n",
    "        \n",
    "def test_and_comapre_algorythms(algorythms: List[Callable],\n",
    "                                input_sizes: List[int],\n",
    "                                min_el: int, max_el: int) -> None:\n",
    "    \"\"\"\n",
    "    Args:\n",
    "        algorythms: a list of functions to test\n",
    "        input_sizes: a list of input sizes\n",
    "    Plots the time it took to run each algorythm for each input size.\n",
    "    \"\"\"\n",
    "    \n",
    "    algo2times = {algo: [] for algo in algorythms}\n",
    "    pbar = tqdm(input_sizes)\n",
    "    for size in pbar:\n",
    "        A_not_sorted = list(randint(min_el, max_el, size))\n",
    "        for algorythm in algorythms:\n",
    "            pbar.set_description(f\"Testing {algorythm.__name__} with input size {size}\")\n",
    "            A = deepcopy(A_not_sorted)\n",
    "            start = time.time()\n",
    "            algorythm(A, size)\n",
    "            end = time.time()\n",
    "            if A != sorted(A_not_sorted):\n",
    "                print(f\"initial array: {A_not_sorted}\")\n",
    "                print(f\"algorytm result: {A}\")\n",
    "                print(f\"correct result: {sorted(A_not_sorted)}\")\n",
    "                raise ValueError(f\"Algorythm {algorythm.__name__} failed to sort an array\")\n",
    "            algo2times[algorythm].append(end - start)\n",
    "\n",
    "    for algo, times in algo2times.items():\n",
    "        plt.plot(input_sizes, times, label=algo.__name__)\n",
    "    plt.legend()\n",
    "    plt.show()\n",
    "    plt.savefig(\"algorythm_time_comaprison.png\")\n",
    "\n",
    "    print(\"Algorythm times:\")\n",
    "    for algo, times in algo2times.items():\n",
    "        print(f\"{algo.__name__}: {times}\")\n",
    "\n",
    "\n",
    "if __name__ == \"__main__\":\n",
    "    test_and_comapre_algorythms(\n",
    "        [insertion_sort, insertion_sort2],\n",
    "        # [16, 32, 64, 128, 512, 1024, 2048, 4096, 8192, 16384, 32768, 65536], 0, 100)\n",
    "        [16, 32, 64, 128, 512, 1024, 2048, 4096, 8192, 16384], 0, 100)\n"
   ]
  },
  {
   "cell_type": "code",
   "execution_count": 17,
   "id": "039fbc67",
   "metadata": {},
   "outputs": [],
   "source": [
    "import numpy as np\n",
    "min_el = 0\n",
    "max_el = 100\n",
    "size = 16\n",
    "a = randint(min_el, max_el, size)\n",
    "l = list(map(str, a))"
   ]
  },
  {
   "cell_type": "code",
   "execution_count": 20,
   "id": "aacf8809",
   "metadata": {},
   "outputs": [],
   "source": [
    "input_sizes = [16, 32, 64, 128, 512, 1024, 2048, 4096, 8192, 16384]"
   ]
  },
  {
   "cell_type": "code",
   "execution_count": 21,
   "id": "c5a2e6b8",
   "metadata": {},
   "outputs": [],
   "source": [
    "import os\n",
    "def generate_tests(input_sizes: List[int], min_el: int, max_el: int) -> None:\n",
    "    for i, input_size in enumerate(input_sizes):\n",
    "        with open(os.path.join(\"tests\", f\"test{i}.txt\"), \"w\") as f:\n",
    "            f.write(f\"{input_size}\\n\")\n",
    "            A = randint(min_el, max_el, input_size)\n",
    "            f.write(\"\\n\".join(map(str, A)))\n",
    "            "
   ]
  },
  {
   "cell_type": "code",
   "execution_count": 22,
   "id": "b528a9e5",
   "metadata": {},
   "outputs": [],
   "source": [
    "generate_tests(input_sizes, 0, 100)"
   ]
  },
  {
   "cell_type": "code",
   "execution_count": null,
   "id": "790bb9c1",
   "metadata": {},
   "outputs": [],
   "source": []
  }
 ],
 "metadata": {
  "kernelspec": {
   "display_name": "Python 3 (ipykernel)",
   "language": "python",
   "name": "python3"
  },
  "language_info": {
   "codemirror_mode": {
    "name": "ipython",
    "version": 3
   },
   "file_extension": ".py",
   "mimetype": "text/x-python",
   "name": "python",
   "nbconvert_exporter": "python",
   "pygments_lexer": "ipython3",
   "version": "3.10.4"
  },
  "vscode": {
   "interpreter": {
    "hash": "2bbf79ea567ebf64b92b9cf68f2b08a0cf8db5ff8a7f29f56d99d802810464d9"
   }
  }
 },
 "nbformat": 4,
 "nbformat_minor": 5
}
